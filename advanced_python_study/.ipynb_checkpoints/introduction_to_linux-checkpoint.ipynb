{
 "cells": [
  {
   "cell_type": "markdown",
   "metadata": {},
   "source": [
    "### 操作系统(Operation System, OS)的作用\n",
    "+ 是配置在计算机硬件上的第一层软件，是对硬件系统的首次扩展\n",
    "+ 主要作用是管理好硬件设备，并为用户和应用程序提供一个简单的接口\n"
   ]
  },
  {
   "cell_type": "markdown",
   "metadata": {},
   "source": [
    "### 单用户和多用户操作系统\n",
    "+ 单用户操作系统：指一台计算机在同一时间只能由一个用户使用，一个用户独享系统的全部硬件和软件资源\n",
    "    + Windows xp之前的版本都是当用户操作系统\n",
    "+ 多用户操作系统：指一台计算机在同时可以由多个用户使用，多个用户共享系统的全部硬件和软件资源\n",
    "    + unix和linux的设计初衷就是多用户操作系统\n"
   ]
  },
  {
   "cell_type": "markdown",
   "metadata": {},
   "source": [
    "# linux的目录结构\n",
    "+ / ：根目录，所有东西都是从这里开始\n",
    "+ /bin、/usr/bin ：可执行二进制文件的目录，如常用的命令ls、tar、mv、cat等\n",
    "+ /boot ：放置Linux系统启动时用到的一些文件，如linux的内核文件：/boot/vmlinuz,系统引导管理器：/boot/grub\n",
    "+ /dev ：存放linux系统下的设备文件，访问该目录下某个文件，相当于访问某个设备，常用的时挂载光驱 mount/dev/cdrom/mnt\n",
    "+ /etc ：系统配置文件存放的目录，不建议在此目录下存放可执行文件，重要的配置文件有：\n",
    "    + /etc/inittab\n",
    "    + /etc/fstab\n",
    "    + /etc/sysconfig\n",
    "+ /home ：系统默认的用户家目录，新增用户账号时，用户的家目录都存放在此目录下\n",
    "    + ~ 表示当前用户的家目录\n",
    "    + ~edu 表示用户edu的家目录\n",
    "+ /lib、/usr/lib、/usr/local/lib ：系统使用的函数库的目录，程序在执行过程中，需要调用一些额外的参数时需要的函数库的协助\n",
    "+ /lost+fount ：系统异常产生错误时，会将一些遗失的片段放置在此目录下\n",
    "+ /mnt:/media ：关盘默认挂载点，通常光盘挂载于/mnt/cdrom下，也不一定，可以选择任意位置进行挂载\n",
    "+ /opt ： 给主机额外安装软件所摆放的目录\n",
    "+ /proc ：此目录的数据都在内存中，如系统核心，外部设备，网路状态，由于数据都存放于内存中，所以不占用磁盘空间，比较重要的文件有：\n",
    "    + /proc/cpuinfo、/proc/interrupts、/proc/dma、/proc/ioports、/proc/net/*等\n",
    "+ /root ：系统管理员root的家目录\n",
    "+ /sbin、/usr/sbin、/usr/local/sbin ：放置系统管理员使用的可执行命令，如fdisk、shutdown、mount等。于/bin不同的是，这几个 目录是给系统管理员root使用命令，一般用户只能查看而不能设置和使用\n",
    "+ /tmp ：一般用户或正在执行的程序临时存放的文件目录，任何人都可以访问，重要数据不可放置在此目录下\n",
    "+ /srv ：服务启动之后需要访问的数据目录，如www服务需要访问的网页数据存放在/srv/www内\n",
    "+ /usr ：应用程序存放目录\n",
    "    + /usr/bin ：存放应用程序\n",
    "    + /usr/share ：存放共享数据\n",
    "    + /usr/lib ：存放不能直接运行，却是许多程序运行多必须的一些函数库文件\n",
    "    + /usr/local ：存放软件升级包\n",
    "    + /usr/share/coc ：系统说明文件存放目录\n",
    "    + /usr/share/man ：程序说明文件存放目录\n",
    "+ /var ：放置系统执行过程汇总经常变化的文件\n",
    "    + /var/log ：随时更改的日志文件\n",
    "    + /var/spool/mail ：邮件存放的目录\n",
    "    + /var/run ：程序或服务启动后，其PID存放在该目录下\n",
    "\n",
    "kali:黑客专用linux系统"
   ]
  },
  {
   "cell_type": "markdown",
   "metadata": {},
   "source": [
    "### 终端命令格式\n",
    "\n",
    "command [-options] [parameter]\n",
    "即：命令 选项 参数\n"
   ]
  },
  {
   "cell_type": "markdown",
   "metadata": {},
   "source": [
    "### 文本搜索：grep\n",
    "\n",
    "Linux系统中grep命令是一种强大的文本搜索工具，grep允许对文本文件进行模式查找。如果找到匹配模式， grep打印包含模式的所有行。\n",
    "\n",
    "grep 一般格式为:  \n",
    "    grep [-选项] ’搜索内容串‘ 文件名\n",
    "\n",
    "eg:\n",
    "\n",
    "```\n",
    "grep 'a' 1.txt\n",
    "```\n",
    "\n",
    "`指在1.txt中搜索所有带字符串a的行`\n",
    "\n",
    "常用选项：\n",
    "\n",
    "\n",
    "|参数|-|含义|\n",
    "|--|--|--|\n",
    "|-v |:|显示不包含匹配文本的所有行（相当于求反）|\n",
    "|-n |:|显示匹配行及行号|\n",
    "|-i |:|忽略大小写|"
   ]
  },
  {
   "cell_type": "markdown",
   "metadata": {},
   "source": [
    "<center>行中心对齐</center>\n",
    "<p align=\"left\">行左对齐</p>\n",
    "<span align=\"right\">行右对齐</span><span align=\"right\">行右对齐</span><span align=\"right\">行右对齐</span><span align=\"right\">行右对齐</span><span align=\"right\">行右对齐</span>"
   ]
  },
  {
   "cell_type": "code",
   "execution_count": null,
   "metadata": {},
   "outputs": [],
   "source": []
  }
 ],
 "metadata": {
  "kernelspec": {
   "display_name": "Python 3",
   "language": "python",
   "name": "python3"
  },
  "language_info": {
   "codemirror_mode": {
    "name": "ipython",
    "version": 3
   },
   "file_extension": ".py",
   "mimetype": "text/x-python",
   "name": "python",
   "nbconvert_exporter": "python",
   "pygments_lexer": "ipython3",
   "version": "3.7.3"
  }
 },
 "nbformat": 4,
 "nbformat_minor": 2
}
