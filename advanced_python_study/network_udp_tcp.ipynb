{
 "cells": [
  {
   "cell_type": "markdown",
   "metadata": {},
   "source": [
    "###  Linux系统中端口可以有65536个，也就是2的16次方！\n",
    "范围是0~65535"
   ]
  },
  {
   "cell_type": "markdown",
   "metadata": {},
   "source": [
    "### 端口的分配\n",
    "+ **知名端口（well known ports）**  \n",
    "    知名端口是众所周知的端口，范围从0~1023，如:\n",
    "    ```\n",
    "    80端口分配给HTTP服务\n",
    "    21端口分配给FTP服务```\n",
    "+ **动态端口（dynamic ports）**  \n",
    "    动态端口范围是从1024到65535，之所以称之为动态端口，是因为它一般不固定分配某种服务而是动态分配  \n",
    "\n",
    "### 查看端口  \n",
    "用 `netstat -an` 查看"
   ]
  },
  {
   "cell_type": "markdown",
   "metadata": {},
   "source": [
    "## socket  \n",
    "socket简称套接字，它能实现不同主机之间的进程间通信  \n",
    "函数 socket.socket 创建一个 socket，该函数带有两个参数：\n",
    "+ Address Family：可以选择 AF_INET（用于 Internet 进程间通信） 或者 AF_UNIX（用于同一台机器进程间通信）,实际工作中常用AF_INET\n",
    "+ Type：套接字类型，可以是 SOCK_STREAM（流式套接字，主要用于 TCP 协议）或者 SOCK_DGRAM（数据报套接字，主要用于 UDP 协议）  \n",
    "\n",
    "例如，创建一个tcp socket（tcp 套接字）  \n",
    "```  \n",
    "import socket\n",
    "# 创建tcp的套接字\n",
    "s = socket.socket(socket.AF_INET, socket.SOCK_STREAM)\n",
    "# ...这部分使用套接字功能...\n",
    "# 结束的时候关闭套接字\n",
    "s.close()\n",
    "```"
   ]
  },
  {
   "cell_type": "code",
   "execution_count": null,
   "metadata": {},
   "outputs": [],
   "source": []
  }
 ],
 "metadata": {
  "kernelspec": {
   "display_name": "Python 3",
   "language": "python",
   "name": "python3"
  },
  "language_info": {
   "codemirror_mode": {
    "name": "ipython",
    "version": 3
   },
   "file_extension": ".py",
   "mimetype": "text/x-python",
   "name": "python",
   "nbconvert_exporter": "python",
   "pygments_lexer": "ipython3",
   "version": "3.7.3"
  }
 },
 "nbformat": 4,
 "nbformat_minor": 2
}
