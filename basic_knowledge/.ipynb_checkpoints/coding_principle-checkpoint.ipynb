{
 "cells": [
  {
   "cell_type": "code",
   "execution_count": 2,
   "metadata": {},
   "outputs": [
    {
     "name": "stdout",
     "output_type": "stream",
     "text": [
      "小甲\n",
      "<class 'str'>\n",
      "utf-8\n",
      "('zh_CN', 'cp936')\n"
     ]
    }
   ],
   "source": [
    "import sys, locale\n",
    "\n",
    "s = \"小甲\"\n",
    "\n",
    "print(s)\n",
    "\n",
    "print(type(s))\n",
    "\n",
    "print(sys.getdefaultencoding())\n",
    "\n",
    "print(locale.getdefaultlocale())\n",
    "\n",
    "with open(\"utf1\",\"w\",encoding = \"utf-8\") as f:\n",
    "\n",
    "    f.write(s)\n",
    "\n",
    "with open(\"gbk1\",\"w\",encoding = \"gbk\") as f:\n",
    "\n",
    "    f.write(s)\n",
    "\n",
    "with open(\"jis1\",\"w\",encoding = \"shift-jis\") as f:\n",
    "\n",
    "    f.write(s)"
   ]
  },
  {
   "cell_type": "markdown",
   "metadata": {},
   "source": [
    "上面代码打印的utf-8指的是：系统默认编码（不要把系统以为是操作系统，这里可以理解成python3的编译器本身）  \n",
    "下面的cp936是指本地的默认编码"
   ]
  },
  {
   "cell_type": "markdown",
   "metadata": {},
   "source": [
    "可以打开三个文件，会发现为什么 utf1 的内容很清楚，没有编码问题，而gbk1 、jis1 的内容都出现了乱码？解释：因为我文件存储时用的编码格式不是utf-8，而此时读取这两个文件时，使用的是linux操作系统的默认编码“utf-8”。那么写入磁盘时不是用utf-8， 读出时却用utf-8，当然读不出来了。（这里需要大家了解encoding的真实作用）"
   ]
  },
  {
   "cell_type": "markdown",
   "metadata": {},
   "source": [
    "# 头文件的 “coding=gbk” 编码声明是什么意思"
   ]
  },
  {
   "cell_type": "markdown",
   "metadata": {},
   "source": [
    "1、它的意思是python3编译器在读取该.py文件时候，我应该用什么格式将它 “解码”？只和读取有关，所以当你确定你代码编辑时候用的是什么格式编码的，你才能把相应的编码格式写入头文件。（在此示范代码中，我用的是linux的默认编码编辑，也就是utf-8，那么在后面运行的时候，却要求解释器用gbk去解码，自然很过分，就会出现了s=“小甲” 乱码的问题）（大家一定要知道，编码是 “编” 和 “解” 的两个步骤，一定要一一对应才能正确解码！虽然通常我们都叫“编码格式”，这是有一定误导性的。实际上另一半是“解码格式”，要有意识地区分 “编” 和 “解” ，我们不能像网上有些文章一样将这两者混为一谈！！）2、根据上面的解释应该可以明白，写了它之后，并不会更改本地、系统默认编码。（本地默认编码只跟操作系统相关，linux中是utf-8，windows中是gbk。）（系统默认编码实际是有python3和python2的差异的，python3是utf-8，python2是ascii。）3、那么，上面两种编码的作用体现在哪里呢？敲黑板，划重点：系统默认编码 指：在python3编译器读取.py文件时，若没有头文件编码声明，则默认使用“utf-8”来对.py文件进行解码。并且在调用 encode()这个函数时，不传参的话默认是“ utf-8 ”。（这与下面的open( )函数中的“encoding”参数要做区分，非常误导人！！！）本地默认编码 指：在你编写的python3程序时，若使用了 open( )函数 ，而不给它传入 “ encoding ” 这个参数，那么会自动使用本地默认编码。没错，如果在Windows系统中，就是默认用gbk格式！！！（这个问题困扰了我好久， 不说好了一直默认utf-8到天长地久的嘛，咋换成win后就频频失信呢。所以请大家在这里注意：linux中可以不用传“ encoding” 的参数， 而win中不能忘了）4、再来回答一下报错的问题：因为我们的编译器已经用了gbk来解码此.py文件了，所以读取出来的变量 s 已经变成了我们现在看到的“ 灏忕敳 ” 了！那么此时把 s 存到磁盘文件中，实际上存的是乱码后的 “ 灏忕敳 ”。而在日文中，是没有这3个字的， 所以自然反馈说 “ 在 position 0 的位置，编码失败了"
   ]
  },
  {
   "cell_type": "markdown",
   "metadata": {},
   "source": [
    "本地默认编码只跟操作系统相关，linux中是utf-8，windows中是gbk。系统默认编码实际是有python3和python2的差异的，python3是utf-8，python2是ascii。"
   ]
  }
 ],
 "metadata": {
  "kernelspec": {
   "display_name": "Python 3",
   "language": "python",
   "name": "python3"
  },
  "language_info": {
   "codemirror_mode": {
    "name": "ipython",
    "version": 3
   },
   "file_extension": ".py",
   "mimetype": "text/x-python",
   "name": "python",
   "nbconvert_exporter": "python",
   "pygments_lexer": "ipython3",
   "version": "3.7.3"
  }
 },
 "nbformat": 4,
 "nbformat_minor": 2
}
