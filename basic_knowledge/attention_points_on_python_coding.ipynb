{
 "cells": [
  {
   "cell_type": "markdown",
   "metadata": {},
   "source": [
    "### 1、python中大部分取值范围都是遵循左闭右开的原则，但在用random取随机数时时左闭右闭。"
   ]
  },
  {
   "cell_type": "code",
   "execution_count": 10,
   "metadata": {},
   "outputs": [
    {
     "name": "stdout",
     "output_type": "stream",
     "text": [
      "2\n",
      "2\n",
      "4\n",
      "3\n",
      "5\n",
      "4\n",
      "5\n",
      "3\n",
      "2\n",
      "5\n"
     ]
    }
   ],
   "source": [
    "import random\n",
    "for _ in range(10):\n",
    "    print(random.randint(2, 5))"
   ]
  },
  {
   "cell_type": "code",
   "execution_count": 5,
   "metadata": {},
   "outputs": [
    {
     "name": "stdout",
     "output_type": "stream",
     "text": [
      "[0, 1, 2, 3, 4, 5, 6]\n"
     ]
    }
   ],
   "source": [
    "L = [0, 1, 2, 3, 4, 5, 6, 7, 8, 9]\n",
    "print(L[:-3])  # 打印到倒数第3位，但是不包含它"
   ]
  },
  {
   "cell_type": "markdown",
   "metadata": {},
   "source": [
    "### 2、对集群对象取随机值"
   ]
  },
  {
   "cell_type": "code",
   "execution_count": 18,
   "metadata": {},
   "outputs": [
    {
     "name": "stdout",
     "output_type": "stream",
     "text": [
      "sample is : [5, 4, 9]\n",
      "choice is : 6\n",
      "choices is : [9, 5, 2]\n",
      "sample is : [0, 4, 6]\n",
      "choice is : 1\n",
      "choices is : [3, 9, 4]\n",
      "sample is : [7, 6, 8]\n",
      "choice is : 7\n",
      "choices is : [2, 5, 6]\n",
      "sample is : [2, 9, 0]\n",
      "choice is : 8\n",
      "choices is : [1, 7, 2]\n",
      "sample is : [4, 0, 1]\n",
      "choice is : 5\n",
      "choices is : [8, 9, 2]\n",
      "sample is : [9, 7, 1]\n",
      "choice is : 9\n",
      "choices is : [7, 2, 7]\n",
      "sample is : [8, 9, 4]\n",
      "choice is : 6\n",
      "choices is : [6, 1, 8]\n",
      "sample is : [8, 7, 4]\n",
      "choice is : 2\n",
      "choices is : [8, 3, 3]\n",
      "sample is : [1, 9, 6]\n",
      "choice is : 4\n",
      "choices is : [7, 0, 4]\n",
      "sample is : [8, 9, 4]\n",
      "choice is : 8\n",
      "choices is : [4, 9, 6]\n"
     ]
    }
   ],
   "source": [
    "# python 序列（sequence）有 list 和 tuple、str等，集合set不是序列（因为没有序）\n",
    "L = [0, 1, 2, 3, 4, 5, 6, 7, 8, 9]\n",
    "for _ in range(10):\n",
    "    print(\"sample is : {}\".format(random.sample(L, 3)))  # 集群population中选取k个元素，返回一个列表，集群可以是list、tuple、str、set\n",
    "    print(\"choice is : {}\".format(random.choice(L)))  # 从非空序列中随机选取一个数据并带回，该序列可以是list、tuple、str\n",
    "    print(\"choices is : {}\".format(random.choices(L, k=3)))  # 从集群中随机选取k次数据，返回一个列表，可以设置权重"
   ]
  },
  {
   "cell_type": "markdown",
   "metadata": {},
   "source": [
    "### python中 + 号，在对于数字时为加法，对于字符串时为合并。这即是python的一般特性“多态”。这种多态的特性为python带来了很大的简洁性和灵活性。"
   ]
  },
  {
   "cell_type": "markdown",
   "metadata": {},
   "source": [
    "### 3、对于字符串操作的strip函数"
   ]
  },
  {
   "cell_type": "code",
   "execution_count": 19,
   "metadata": {},
   "outputs": [
    {
     "name": "stdout",
     "output_type": "stream",
     "text": [
      "(0, 1, 2, 3, 4, 5, 6, 7, 8, 9)78p\n",
      "0, 1, 2, 3, 4, 5, 6, 7, 8, 9)78\n"
     ]
    }
   ],
   "source": [
    "L = (0, 1, 2, 3, 4, 5, 6, 7, 8, 9)\n",
    "str = str(L) + \"78p\"\n",
    "print(str)\n",
    "t = str.strip(\")( p\")  # 亲测，啥都可以，只要符合其中一项即可剥除\n",
    "print(t)"
   ]
  },
  {
   "cell_type": "markdown",
   "metadata": {},
   "source": [
    "### 4、格式化字符串不仅可以用来输出还可以用来处理字符串，很方便"
   ]
  },
  {
   "cell_type": "code",
   "execution_count": 23,
   "metadata": {},
   "outputs": [
    {
     "name": "stdout",
     "output_type": "stream",
     "text": [
      "hello world==你好 世界\n"
     ]
    }
   ],
   "source": [
    "# coding=utf-8\n",
    "str = \"hello\"\n",
    "str1 = \"world\"\n",
    "str2 = \"你好\"\n",
    "str3 = \"世界\"\n",
    "s = '{} {}=={} {}'.format(str, str1, str2, str3)\n",
    "print(s)"
   ]
  },
  {
   "cell_type": "markdown",
   "metadata": {},
   "source": [
    "### 5、返回对象包含的所有属性"
   ]
  },
  {
   "cell_type": "code",
   "execution_count": 26,
   "metadata": {},
   "outputs": [
    {
     "name": "stdout",
     "output_type": "stream",
     "text": [
      "['__add__', '__class__', '__contains__', '__delattr__', '__dir__', '__doc__', '__eq__', '__format__', '__ge__', '__getattribute__', '__getitem__', '__getnewargs__', '__gt__', '__hash__', '__init__', '__init_subclass__', '__iter__', '__le__', '__len__', '__lt__', '__mul__', '__ne__', '__new__', '__reduce__', '__reduce_ex__', '__repr__', '__rmul__', '__setattr__', '__sizeof__', '__str__', '__subclasshook__', 'count', 'index']\n"
     ]
    }
   ],
   "source": [
    "L = (0, 1, 2, 3, 4, 5, 6, 7, 8, 9)\n",
    "print(dir(L))"
   ]
  },
  {
   "cell_type": "markdown",
   "metadata": {},
   "source": [
    "### 6、python编解码"
   ]
  },
  {
   "cell_type": "code",
   "execution_count": 30,
   "metadata": {},
   "outputs": [
    {
     "name": "stdout",
     "output_type": "stream",
     "text": [
      "gbk coding s is  b'\\xc4\\xe3\\xba\\xc3'\n",
      "gbk si  你好\n",
      "utf-8 coding is b'\\xe4\\xbd\\xa0\\xe5\\xa5\\xbd'\n",
      "utf-8 is  你好\n"
     ]
    }
   ],
   "source": [
    "# 在windows系统默认为utf-8，linux系统为gbk\n",
    "s = \"你好\"  # 此时是unicode字符集编码and解码后的结果\n",
    "s = s.encode('gbk')  # 编码为字节\n",
    "print(\"gbk coding s is \", s)\n",
    "# 以gbk编码的就要以gbk解码\n",
    "s = s.decode('gbk')  # 字节以gbk解码为字符串\n",
    "print(\"gbk si \", s)\n",
    "# 对解码后的str进行编码操作\n",
    "s = s.encode('utf-8')\n",
    "print('utf-8 coding is', s)\n",
    "s = s.decode('utf-8')  # 以utf-8编码就要以utf-进行解码\n",
    "print('utf-8 is ', s)"
   ]
  },
  {
   "cell_type": "code",
   "execution_count": null,
   "metadata": {},
   "outputs": [],
   "source": []
  }
 ],
 "metadata": {
  "kernelspec": {
   "display_name": "Python 3",
   "language": "python",
   "name": "python3"
  },
  "language_info": {
   "codemirror_mode": {
    "name": "ipython",
    "version": 3
   },
   "file_extension": ".py",
   "mimetype": "text/x-python",
   "name": "python",
   "nbconvert_exporter": "python",
   "pygments_lexer": "ipython3",
   "version": "3.7.3"
  }
 },
 "nbformat": 4,
 "nbformat_minor": 2
}
