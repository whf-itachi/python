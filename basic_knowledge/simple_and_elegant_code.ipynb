{
 "cells": [
  {
   "cell_type": "markdown",
   "metadata": {},
   "source": [
    "# 列表推导式"
   ]
  },
  {
   "cell_type": "markdown",
   "metadata": {},
   "source": [
    "### 问题一：有两个列表，各包含不定数量str，如果list1中的str包含有list2中的str则将其提取出来！\n",
    "解决技巧：可以使用多重for循环，在右边进行判断，在左边进行表达式输出"
   ]
  },
  {
   "cell_type": "code",
   "execution_count": 2,
   "metadata": {},
   "outputs": [
    {
     "name": "stdout",
     "output_type": "stream",
     "text": [
      "['hello', 'beautiful', 'reading', 'runing']\n"
     ]
    }
   ],
   "source": [
    "# 解答\n",
    "list1 = [\"hello\", \"world\", \"good\", \"beautiful\", \"reading\", \"protocol\", \"runing\"]\n",
    "list2 = [\"he\", \"ful\", \"ing\"]\n",
    "list3 = [i for i in list1 for j in list2 if j in i]\n",
    "print(list3)"
   ]
  },
  {
   "cell_type": "code",
   "execution_count": 7,
   "metadata": {},
   "outputs": [
    {
     "name": "stdout",
     "output_type": "stream",
     "text": [
      "['helloA', 'helloB', 'helloC', 'worldA', 'worldB', 'worldC', 'goodA', 'goodB', 'goodC', 'beautifulA', 'beautifulB', 'beautifulC', 'readingA', 'readingB', 'readingC', 'protocolA', 'protocolB', 'protocolC', 'runingA', 'runingB', 'runingC']\n"
     ]
    }
   ],
   "source": [
    "# 扩展,对字符串重组的妙用\n",
    "list1 = [\"hello\", \"world\", \"good\", \"beautiful\", \"reading\", \"protocol\", \"runing\"]\n",
    "list2 = [\"A\", \"B\", \"C\"]\n",
    "list3 = [i + j for i in list1 for j in list2]\n",
    "print(list3)"
   ]
  },
  {
   "cell_type": "code",
   "execution_count": null,
   "metadata": {},
   "outputs": [],
   "source": []
  }
 ],
 "metadata": {
  "kernelspec": {
   "display_name": "Python 3",
   "language": "python",
   "name": "python3"
  },
  "language_info": {
   "codemirror_mode": {
    "name": "ipython",
    "version": 3
   },
   "file_extension": ".py",
   "mimetype": "text/x-python",
   "name": "python",
   "nbconvert_exporter": "python",
   "pygments_lexer": "ipython3",
   "version": "3.7.3"
  }
 },
 "nbformat": 4,
 "nbformat_minor": 2
}
