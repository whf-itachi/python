{
 "cells": [
  {
   "cell_type": "markdown",
   "metadata": {},
   "source": [
    "### 关于将网页数据流写入文件时遇到的编码问题：\n",
    "    1： #encoding='XXX' 这里(也就是python文件第一行的内容)的编码是指该python脚本文件本身的编码，无关紧要。只要XXX和文件本身的编码相同就行了。 比如notepad++ \"格式\"菜单里面里可以设置各种编码，这时需要保证该菜单里设置的编码和encoding XXX相同就行了，不同的话会报错\n",
    "    2：网络数据流的编码 比如获取网页，那么网络数据流的编码就是网页的编码。需要使用decode解码成unicode编码。\n",
    "    3：目标文件的编码 要将网络数据流的编码写入到新文件，那么我么需要指定新文件的编码,具体方式如下：\n",
    "`f.write(str)`  \n",
    ":此时str时一个字符串，他是通过decode解码过的字符串。目标文件的编码是导致问题的罪魁祸首。  \n",
    "`f = open(\"out.html\", \"w\")`  \n",
    "：在windows下面，新文件的默认编码是gbk（ubuntu下默认是utf-8,所以没有这个问题），这样的话，python解释器会用gbk编码去解析我们的网络数据库流str。然而str此时已经是decode过的unicode编码，这样的话就会导致解析不了！解决办法是改变目标文件的编码方式：  \n",
    "`f = open(\"out.html\", \"w\", encoding=\"utf-8\")`  \n",
    "这样问题就解决了。\n",
    "\n",
    "**在写入数据是，如果是result.conten 获取的bytes类型，然后以`wb`的形式写入，一般而言不会有乱码和错误的问题！**"
   ]
  },
  {
   "cell_type": "markdown",
   "metadata": {},
   "source": [
    "# 判断网页数据格式类型：\n",
    "直接网页抓包，看head字段中的 meta http-equiv=\"Content-Type\" content=\"text/html;charset=utf-8\"，其中的charset就指明了网页的数据类型！  \n",
    "charset ：字符集 的意思"
   ]
  },
  {
   "cell_type": "code",
   "execution_count": null,
   "metadata": {},
   "outputs": [],
   "source": []
  }
 ],
 "metadata": {
  "kernelspec": {
   "display_name": "Python 3",
   "language": "python",
   "name": "python3"
  },
  "language_info": {
   "codemirror_mode": {
    "name": "ipython",
    "version": 3
   },
   "file_extension": ".py",
   "mimetype": "text/x-python",
   "name": "python",
   "nbconvert_exporter": "python",
   "pygments_lexer": "ipython3",
   "version": "3.7.3"
  }
 },
 "nbformat": 4,
 "nbformat_minor": 2
}
