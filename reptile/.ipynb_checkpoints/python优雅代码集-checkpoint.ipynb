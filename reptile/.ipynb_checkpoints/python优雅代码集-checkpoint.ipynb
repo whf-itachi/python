{
 "cells": [
  {
   "cell_type": "markdown",
   "metadata": {},
   "source": [
    "python代码的简洁优美之overview（纵览，概述）\n"
   ]
  },
  {
   "cell_type": "markdown",
   "metadata": {},
   "source": [
    "# 列表推导式（list comprehension）\n",
    "要说python里面最简洁最神奇的代码，列表推导应该算排行第一。这是一种非常精炼的写法"
   ]
  },
  {
   "cell_type": "code",
   "execution_count": 8,
   "metadata": {},
   "outputs": [
    {
     "name": "stdout",
     "output_type": "stream",
     "text": [
      "[1, 4, 9, 16, 25, 36]\n"
     ]
    }
   ],
   "source": [
    "# 利用一个列表生成一个新的列表\n",
    "a = [1, 2, 3, 4, 5, 6]\n",
    "squares = [x**2 for x in a]\n",
    "print(squares)"
   ]
  },
  {
   "cell_type": "code",
   "execution_count": 9,
   "metadata": {},
   "outputs": [
    {
     "name": "stdout",
     "output_type": "stream",
     "text": [
      "[4, 16, 36, 64, 100]\n"
     ]
    }
   ],
   "source": [
    "# 过滤列表中的一些元素\n",
    "new_list = [x**2 for x in range(1, 11) if x%2==0]\n",
    "print(new_list)"
   ]
  },
  {
   "cell_type": "code",
   "execution_count": 10,
   "metadata": {},
   "outputs": [
    {
     "name": "stdout",
     "output_type": "stream",
     "text": [
      "['0:one', '1:two', '2:three', '3:four']\n"
     ]
    }
   ],
   "source": [
    "# 若要对序列里面的内容进行循环处理时，也可以加一个函数组合完成\n",
    "def _change(x, y):\n",
    "    return '%d:%s'%(x, y)\n",
    "seq = ['one', 'two', 'three', 'four']\n",
    "print([_change(x, y) for x, y in enumerate(seq)])"
   ]
  },
  {
   "cell_type": "code",
   "execution_count": 11,
   "metadata": {},
   "outputs": [
    {
     "name": "stdout",
     "output_type": "stream",
     "text": [
      "0 h\n",
      "1 e\n",
      "2 l\n",
      "3 l\n",
      "4 o\n",
      "5  \n",
      "6 w\n",
      "7 o\n",
      "8 r\n",
      "9 l\n",
      "10 d\n"
     ]
    }
   ],
   "source": [
    "# enumerate()函数是将一个可以遍历的对象组合为一个索引序列，同时列出索引下标，一般用于for循环中！\n",
    "s = 'hello world'\n",
    "for i, h in enumerate(s):\n",
    "    print(i,h)"
   ]
  },
  {
   "cell_type": "markdown",
   "metadata": {},
   "source": [
    "# with语句"
   ]
  },
  {
   "cell_type": "markdown",
   "metadata": {},
   "source": [
    "一般我们处理文件都是先打开->然后处理->然后关闭.比较麻烦，还需要防止异常保护try/finally，很多时候我们都把精力集中在如何处理文件这样会忘掉关闭文件.Python里面**with**是一种非常简洁的方法.用with语句能够保证当写操作执行完毕之后,自动关闭文件。  \n",
    "with的用法体现了python的一个精髓:把一些繁琐的事务交给语言本身，开发者只要focus放在处理问题的逻辑上就可以了."
   ]
  },
  {
   "cell_type": "markdown",
   "metadata": {},
   "source": [
    "# 匿名函数 lambda"
   ]
  },
  {
   "cell_type": "markdown",
   "metadata": {},
   "source": [
    "lambda一般的形式是关键字lambda 后面跟一个或者多个参数，后面紧跟一个冒号,之后是一个表达式:  \n",
    "lambda arg1,agr2,...agrN:express using arguments"
   ]
  },
  {
   "cell_type": "code",
   "execution_count": 15,
   "metadata": {},
   "outputs": [
    {
     "name": "stdout",
     "output_type": "stream",
     "text": [
      "1\n",
      "4\n",
      "9\n",
      "16\n",
      "25\n",
      "36\n"
     ]
    }
   ],
   "source": [
    "# 以map()函数为例，若要计算一个列表里面的每个元素的平方，可以直接传入匿名函数：\n",
    "for i in map(lambda x:x*x, [1, 2, 3, 4, 5, 6]):\n",
    "    print(i)"
   ]
  },
  {
   "cell_type": "markdown",
   "metadata": {},
   "source": [
    "通过上面的列子可以看到，匿名函数lambda x:x*x实际上就是函数：\n",
    "```\n",
    "def f(x):\n",
    "    return x*x\n",
    "```"
   ]
  },
  {
   "cell_type": "markdown",
   "metadata": {},
   "source": [
    "用匿名函数的好处是显而易见的：\n",
    "\n",
    "+ 一方面是可以免去取名字的麻烦(因为高质量的代码对函数的取名是有一定的要求的)而且不必担心函数名冲突\n",
    "+ 此外，匿名函数也是一个函数对象，也可以把匿名函数赋值给一个变量，再利用变量来调用该函数："
   ]
  },
  {
   "cell_type": "markdown",
   "metadata": {},
   "source": [
    "map()函数是map() 会根据提供的函数对指定序列做映射。第一个参数 function 以参数序列中的每一个元素调用 function 函数，返回包含每次 function 函数返回值的新列表。  \n",
    "`map(function, iterable, ...)`  \n",
    "注意：\n",
    "python2 返回列表\n",
    "python3 返回迭代器"
   ]
  },
  {
   "cell_type": "markdown",
   "metadata": {},
   "source": [
    "# 生成器"
   ]
  },
  {
   "cell_type": "markdown",
   "metadata": {},
   "source": [
    "生成器是python里面一个比较难理解的概念，也是Python中引入的两个强大的特性之一（猜猜另外一个特性是啥，对了就是装饰器）"
   ]
  },
  {
   "cell_type": "code",
   "execution_count": 19,
   "metadata": {},
   "outputs": [
    {
     "name": "stdout",
     "output_type": "stream",
     "text": [
      "1\n",
      "1\n",
      "2\n",
      "3\n",
      "5\n",
      "8\n"
     ]
    },
    {
     "data": {
      "text/plain": [
       "[1, 1, 2, 3, 5, 8]"
      ]
     },
     "execution_count": 19,
     "metadata": {},
     "output_type": "execute_result"
    }
   ],
   "source": [
    "# 先看一个简单的例子，斐波那契数列的实现\n",
    "def fac1(n):\n",
    "    result = []\n",
    "    a, b = 0, 1\n",
    "    while b < n:\n",
    "        result.append(b)\n",
    "        a, b = b, a+b\n",
    "    return result\n",
    "for i,f in enumerate(fac1(10)):\n",
    "    print(f)\n",
    "fac1(10)"
   ]
  },
  {
   "cell_type": "code",
   "execution_count": 20,
   "metadata": {},
   "outputs": [
    {
     "name": "stdout",
     "output_type": "stream",
     "text": [
      "1\n",
      "1\n",
      "2\n",
      "3\n",
      "5\n",
      "8\n"
     ]
    },
    {
     "data": {
      "text/plain": [
       "<generator object fac2 at 0x00000228A6D64CF0>"
      ]
     },
     "execution_count": 20,
     "metadata": {},
     "output_type": "execute_result"
    }
   ],
   "source": [
    "# 生成器的函数\n",
    "def fac2(n):\n",
    "    a, b = 1, 1\n",
    "    while a < n:\n",
    "        yield a  # 注意关键字yield\n",
    "        a, b = b, a+b\n",
    "for i, f in enumerate(fac2(10)):\n",
    "    print(f)\n",
    "fac2(10)"
   ]
  },
  {
   "cell_type": "markdown",
   "metadata": {},
   "source": [
    "生成器函数和普通函数的执行流程非常不一样：  \n",
    "+ 函数是顺序执行，遇到return语句或者最后一行函数语句就返回。\n",
    "+ 而变成生成器的函数，只会相应迭代操作时才运行,一般都是配合for使用(也有配合sum(),list())  \n",
    "+ 在每次调用next()的时候执行，遇到yield语句返回，再次执行时从上次返回的yield语句处继续执行。"
   ]
  },
  {
   "cell_type": "code",
   "execution_count": null,
   "metadata": {},
   "outputs": [],
   "source": []
  }
 ],
 "metadata": {
  "kernelspec": {
   "display_name": "Python 3",
   "language": "python",
   "name": "python3"
  },
  "language_info": {
   "codemirror_mode": {
    "name": "ipython",
    "version": 3
   },
   "file_extension": ".py",
   "mimetype": "text/x-python",
   "name": "python",
   "nbconvert_exporter": "python",
   "pygments_lexer": "ipython3",
   "version": "3.7.3"
  }
 },
 "nbformat": 4,
 "nbformat_minor": 2
}
